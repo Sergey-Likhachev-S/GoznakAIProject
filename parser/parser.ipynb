{
 "cells": [
  {
   "cell_type": "code",
   "execution_count": null,
   "id": "a9ccd455-633a-4c94-b24e-6587d63f73e6",
   "metadata": {},
   "outputs": [],
   "source": [
    "mesyac = '1'\n",
    "date_parser = '2025/' + mesyac\n",
    "test_date = 'https://telecombloger.ru/date/'+date_parser\n",
    "test_date"
   ]
  },
  {
   "cell_type": "code",
   "execution_count": null,
   "id": "da31fb62-5277-43a1-9939-d99b1c048738",
   "metadata": {},
   "outputs": [],
   "source": [
    "import asyncio\n",
    "from pyppeteer import launch\n",
    "import os\n",
    "import pandas as pd\n",
    "import re\n",
    "\n",
    "async def fetch_articles():\n",
    "    browser = await launch(\n",
    "        headless=True,\n",
    "        executablePath=r\"C:\\Program Files\\Google\\Chrome\\Application\\chrome.exe\"\n",
    "    )\n",
    "    page = await browser.newPage()\n",
    "    await page.goto(test_date, {'waitUntil': 'networkidle2'}) # Здесь задаем сайт\n",
    "    await page.setViewport({'width': 1280, 'height': 800})\n",
    "    await asyncio.sleep(5)  # задержка перед началом парсинга\n",
    "\n",
    "    # Извлечение всех блоков article и нужных данных\n",
    "    articles = await page.evaluate('''() => {\n",
    "        return Array.from(document.querySelectorAll('article')).map(article => {\n",
    "            const idMatch = article.id.match(/post-(\\\\d+)/);\n",
    "            const post = idMatch ? idMatch[1] : null;\n",
    "\n",
    "            const aTag = article.querySelector('a.news-item-title-link');\n",
    "            const href = aTag ? aTag.href : null;\n",
    "\n",
    "            const catTags = Array.from(article.querySelectorAll('.news-item-categories a'))\n",
    "                                 .map(el => el.textContent.trim());\n",
    "\n",
    "            const dateEl = article.querySelector('.meta-published');\n",
    "            const date = dateEl ? dateEl.textContent.trim() : null;\n",
    "\n",
    "            return {\n",
    "                post: post,\n",
    "                href: href,\n",
    "                category_tag: catTags,\n",
    "                date: date\n",
    "            };\n",
    "        });\n",
    "    }''')\n",
    "\n",
    "    await browser.close()\n",
    "    return articles\n",
    "\n",
    "def save_to_dataframe(data):\n",
    "    df = pd.DataFrame(data)\n",
    "    df['category_tag'] = df['category_tag'].apply(lambda tags: ', '.join(tags))\n",
    "    return df"
   ]
  },
  {
   "cell_type": "code",
   "execution_count": null,
   "id": "947de355-5379-4af6-addb-7dd616e4eb9f",
   "metadata": {},
   "outputs": [],
   "source": [
    "async def extract_article_text(url):\n",
    "    from pyppeteer.errors import NetworkError, PageError\n",
    "    try:\n",
    "        browser = await launch(\n",
    "            headless=True,\n",
    "            executablePath=r\"C:\\Program Files\\Google\\Chrome\\Application\\chrome.exe\",\n",
    "            args=['--no-sandbox']\n",
    "        )\n",
    "        page = await browser.newPage()\n",
    "        await page.goto(url, {'waitUntil': 'domcontentloaded'})\n",
    "        \n",
    "        # Явное ожидание нужного блока\n",
    "        await page.waitForSelector('.news-page-text', {'timeout': 10000})\n",
    "        await asyncio.sleep(2)  # небольшая задержка\n",
    "\n",
    "        text = await page.evaluate('''() => {\n",
    "            const content = document.querySelector('.news-page-text');\n",
    "            return content ? content.innerText.trim() : null;\n",
    "        }''')\n",
    "\n",
    "        await browser.close()\n",
    "        return text\n",
    "\n",
    "    except NetworkError as e:\n",
    "        print(f\"[!] Сетевая ошибка: {e}\")\n",
    "    except PageError as e:\n",
    "        print(f\"[!] Ошибка страницы: {e}\")\n",
    "    except Exception as e:\n",
    "        print(f\"[!] Неизвестная ошибка: {e}\")\n",
    "    finally:\n",
    "        try:\n",
    "            await browser.close()\n",
    "        except:\n",
    "            pass\n",
    "    return None\n"
   ]
  },
  {
   "cell_type": "code",
   "execution_count": null,
   "id": "10d04079-55e4-4725-b8ac-fc25bac45822",
   "metadata": {},
   "outputs": [],
   "source": [
    "async def main():\n",
    "    print(\"[*] Парсинг сайта telecombloger.ru...\")\n",
    "    articles = await fetch_articles()\n",
    "    df = save_to_dataframe(articles)\n",
    "    print(\"[✓] Готово. DataFrame создан.\")\n",
    "    return df\n",
    "\n",
    "df = await main()\n",
    "df.head() # Создаем DataFrame\n"
   ]
  },
  {
   "cell_type": "code",
   "execution_count": null,
   "id": "f7613eb2-edf5-4ff2-8029-ca57f26a4d1a",
   "metadata": {},
   "outputs": [],
   "source": [
    "df"
   ]
  },
  {
   "cell_type": "code",
   "execution_count": null,
   "id": "84b3006c-9825-4066-94fc-9710f16d2791",
   "metadata": {},
   "outputs": [],
   "source": [
    "x = df.index.max()  # максимальный индекс\n",
    "for i in range(x, -1, -1):  # от x до 0 включительно\n",
    "    test_url = \"https://telecombloger.ru/\" + df.iloc[i].post\n",
    "    print(f\"[*] Извлекаем текст - {test_url}\")\n",
    "\n",
    "    url = test_url\n",
    "    text = await extract_article_text(url)\n",
    "\n",
    "    if text:\n",
    "        # print(\"[✓] Извлечённый текст:\\n\")\n",
    "        # print(text[:1000] + '...')\n",
    "\n",
    "        # Имя файла на основе ссылки\n",
    "        filename = df.iloc[i].post.replace(\"/\", \"_\") + \".txt\"\n",
    "        with open(filename, \"w\", encoding=\"utf-8\") as f:\n",
    "            f.write(text)\n",
    "        print(f'[✓] Файл сохранен: {filename}')\n",
    "    else:\n",
    "        print(f\"[!] Не удалось извлечь текст для: {url}\")\n"
   ]
  },
  {
   "cell_type": "code",
   "execution_count": null,
   "id": "e8a055bf-c94c-43b5-a5cd-64fedd45bdcd",
   "metadata": {},
   "outputs": [],
   "source": [
    "# Сохранение в CSV\n",
    "df.to_csv('telecombloger_2025_' + mesyac + '.csv', index=False, encoding='utf-8-sig')"
   ]
  }
 ],
 "metadata": {
  "kernelspec": {
   "display_name": "Python 3 (ipykernel)",
   "language": "python",
   "name": "python3"
  },
  "language_info": {
   "codemirror_mode": {
    "name": "ipython",
    "version": 3
   },
   "file_extension": ".py",
   "mimetype": "text/x-python",
   "name": "python",
   "nbconvert_exporter": "python",
   "pygments_lexer": "ipython3",
   "version": "3.11.9"
  }
 },
 "nbformat": 4,
 "nbformat_minor": 5
}
